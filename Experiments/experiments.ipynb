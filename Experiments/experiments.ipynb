{
 "cells": [
  {
   "cell_type": "code",
   "execution_count": 1,
   "id": "837edf3a",
   "metadata": {},
   "outputs": [
    {
     "data": {
      "text/plain": [
       "True"
      ]
     },
     "execution_count": 1,
     "metadata": {},
     "output_type": "execute_result"
    }
   ],
   "source": [
    "import os\n",
    "from dotenv import load_dotenv\n",
    "load_dotenv()"
   ]
  },
  {
   "cell_type": "code",
   "execution_count": 20,
   "id": "64f98524",
   "metadata": {},
   "outputs": [],
   "source": [
    "google_api_key = os.getenv(\"GOOGLE_API_KEY\")"
   ]
  },
  {
   "cell_type": "code",
   "execution_count": 33,
   "id": "19944730",
   "metadata": {},
   "outputs": [],
   "source": [
    "from llama_index.llms.gemini import Gemini\n",
    "import google.generativeai as genai\n",
    "\n",
    "from llama_index.core import SimpleDirectoryReader, VectorStoreIndex, ServiceContext, StorageContext, load_index_from_storage\n",
    "from llama_index.embeddings.gemini import GeminiEmbedding\n",
    "from IPython.display import Markdown,display"
   ]
  },
  {
   "cell_type": "code",
   "execution_count": 21,
   "id": "a8a54f40",
   "metadata": {},
   "outputs": [],
   "source": [
    "genai.configure(api_key=google_api_key)"
   ]
  },
  {
   "cell_type": "code",
   "execution_count": 5,
   "id": "d43d129d",
   "metadata": {},
   "outputs": [
    {
     "name": "stdout",
     "output_type": "stream",
     "text": [
      "models/gemini-1.0-pro-vision-latest\n",
      "models/gemini-pro-vision\n",
      "models/gemini-1.5-pro-latest\n",
      "models/gemini-1.5-pro-002\n",
      "models/gemini-1.5-pro\n",
      "models/gemini-1.5-flash-latest\n",
      "models/gemini-1.5-flash\n",
      "models/gemini-1.5-flash-002\n",
      "models/gemini-1.5-flash-8b\n",
      "models/gemini-1.5-flash-8b-001\n",
      "models/gemini-1.5-flash-8b-latest\n",
      "models/gemini-2.5-pro-preview-03-25\n",
      "models/gemini-2.5-flash-preview-04-17\n",
      "models/gemini-2.5-flash-preview-05-20\n",
      "models/gemini-2.5-flash\n",
      "models/gemini-2.5-flash-preview-04-17-thinking\n",
      "models/gemini-2.5-flash-lite-preview-06-17\n",
      "models/gemini-2.5-pro-preview-05-06\n",
      "models/gemini-2.5-pro-preview-06-05\n",
      "models/gemini-2.5-pro\n",
      "models/gemini-2.0-flash-exp\n",
      "models/gemini-2.0-flash\n",
      "models/gemini-2.0-flash-001\n",
      "models/gemini-2.0-flash-exp-image-generation\n",
      "models/gemini-2.0-flash-lite-001\n",
      "models/gemini-2.0-flash-lite\n",
      "models/gemini-2.0-flash-preview-image-generation\n",
      "models/gemini-2.0-flash-lite-preview-02-05\n",
      "models/gemini-2.0-flash-lite-preview\n",
      "models/gemini-2.0-pro-exp\n",
      "models/gemini-2.0-pro-exp-02-05\n",
      "models/gemini-exp-1206\n",
      "models/gemini-2.0-flash-thinking-exp-01-21\n",
      "models/gemini-2.0-flash-thinking-exp\n",
      "models/gemini-2.0-flash-thinking-exp-1219\n",
      "models/gemini-2.5-flash-preview-tts\n",
      "models/gemini-2.5-pro-preview-tts\n",
      "models/learnlm-2.0-flash-experimental\n",
      "models/gemma-3-1b-it\n",
      "models/gemma-3-4b-it\n",
      "models/gemma-3-12b-it\n",
      "models/gemma-3-27b-it\n",
      "models/gemma-3n-e4b-it\n",
      "models/gemma-3n-e2b-it\n"
     ]
    }
   ],
   "source": [
    "for models in genai.list_models():\n",
    "    if 'generateContent' in models.supported_generation_methods:\n",
    "        print(models.name)"
   ]
  },
  {
   "cell_type": "code",
   "execution_count": 22,
   "id": "a557c545",
   "metadata": {},
   "outputs": [],
   "source": [
    "documents = SimpleDirectoryReader(\"..\\Data\")"
   ]
  },
  {
   "cell_type": "code",
   "execution_count": 23,
   "id": "b0f1186e",
   "metadata": {},
   "outputs": [],
   "source": [
    "doc = documents.load_data()"
   ]
  },
  {
   "cell_type": "code",
   "execution_count": 8,
   "id": "9c45fa64",
   "metadata": {},
   "outputs": [
    {
     "name": "stdout",
     "output_type": "stream",
     "text": [
      "1. What is Generative AI?\n",
      "\n",
      "Generative AI, short for Generative Artificial Intelligence, is a subset of artificial intelligence (AI) that focuses on enabling machines to produce content or data that resembles human-generated information. It’s a technology that’s gaining immense popularity in various fields, from natural language processing to creative content generation.\n",
      "\n",
      "Generative AI operates on a principle of learning patterns from existing data and using that knowledge to create new content. It relies on deep learning techniques, particularly neural networks, to accomplish this task. These neural networks are trained on large datasets, allowing them to generate text, images, music, and more.\n",
      "\n",
      "\n",
      "2. How does Generative AI work?\n",
      "\n",
      "Generative AI works through the use of neural networks, specifically Recurrent Neural Networks (RNNs) and more recently, Transformers. Here’s a simplified breakdown of how it functions:\n",
      "\n",
      "●\tData Collection: To begin, a substantial amount of data related to the specific task is gathered. For instance, if you want to generate text, the model needs a massive text corpus to learn from.\n",
      "●\tTraining: The neural network is then trained on this data. During training, the model learns the underlying patterns, structures, and relationships within the data. It learns to predict the next word, character, or element in a sequence.\n",
      "●\tGeneration: Once trained, the model can generate content by taking a seed input and predicting the subsequent elements. For instance, if you give it the start of a sentence, it can complete the sentence in a coherent and contextually relevant manner.\n",
      "●\tFine-Tuning: Generative AI models can be further fine-tuned for specific tasks or domains to improve the quality of generated content.\n",
      "\n",
      "\n",
      "3. What are the top applications of Generative AI?\n",
      "\n",
      "Generative AI has a wide range of applications across different industries:\n",
      "\n",
      "●\tNatural Language Processing (NLP): It’s used for text generation, language translation, and chatbots that can engage in human-like conversations.\n",
      "●\tContent Generation: Generative AI can create articles, stories, and even poetry. It’s used by content creators to assist in writing.\n",
      "●\tImage and Video Generation: It can generate realistic images and videos, which are valuable in fields like entertainment and design.\n",
      "●\tData Augmentation: In data science, it’s used to create synthetic data for training machine learning models.\n",
      "●\tHealthcare: Generative AI helps in generating medical reports, simulating disease progression, and drug discovery.\n",
      "\n",
      "4. Can you explain the difference between Generative AI and Discriminative AI?\n",
      "\n",
      "Generative AI\n",
      "\n",
      "●\tGenerates new data based on learned patterns.\n",
      "●\tContent creation, data generation.\n",
      "●\tText generation, image synthesis, creativity.\n",
      "●\tLearn patterns in data for content generation.\n",
      "●\tChatbots, text generators, art creation.\n",
      "\n",
      "Discriminative AI\n",
      "\n",
      "●\tClassifies input data into predefined classes.\n",
      "●\tClassification, discrimination.\n",
      "●\tSpam detection, sentiment analysis, image recognition.\n",
      "●\tFocuses on learning boundaries between classes.\n",
      "●\tSpam filters, image classifiers, sentiment analysis models.\n",
      "\n",
      "\n",
      "5. What are some popular Generative AI models?\n",
      "\n",
      "Generative AI models have revolutionised the field of artificial intelligence, offering remarkable capabilities in generating content, from text to images and beyond. In this section, we’ll explore some of the most popular and influential Generative AI models that have left a significant mark on the industry.\n",
      "\n",
      "●\tGPT-4 (Generative Pre-trained Transformer 4): GPT-4, developed by OpenAI, is a standout among Generative AI models. With billions of parameters, it has demonstrated remarkable text generation abilities. GPT-4 can answer questions, write essays, generate code, and even create conversational agents that engage users in natural language.\n",
      "●\tBERT (Bidirectional Encoder Representations from Transformers): Although primarily known for its prowess in natural language understanding, BERT also exhibits generative capabilities. It excels in tasks like text completion and summarization, making it a valuable tool in various applications, including search engines and chatbots.\n",
      "●\tDALL·E: If you’re interested in generative art, DALL·E is a model to watch. Developed by OpenAI, this model can generate images from textual descriptions. It takes creativity to new heights by creating visuals based on written prompts, showing the potential of Generative AI in the visual arts.\n",
      "●\tStyleGAN2: When it comes to generating realistic images, StyleGAN2 is a name that stands out. It can create high-quality, diverse images that are virtually indistinguishable from real photographs. StyleGAN2 has applications in gaming, design, and even fashion.\n",
      "●\tVQ-VAE-2 (Vector Quantized Variational Autoencoder 2): This model combines elements of generative and variational autoencoders to generate high-quality, high-resolution images. It has made significant strides in image compression and generation.\n",
      "6. How is Generative Adversarial Networks (GANs) used in AI?\n",
      "\n",
      "Generative Adversarial Networks, orGANs, have emerged as a groundbreaking concept in the realm of Generative AI. These networks consist of two primary components: a generator and a discriminator, which work in tandem to create and evaluate content. \n",
      "\n",
      "\n",
      "\n",
      "7. What are the limitations of Generative AI?\n",
      "\n",
      "While Generative AI has made remarkable strides, it’s essential to acknowledge its limitations and challenges. Understanding these limitations is crucial for responsible and effective use. Here are some key constraints of Generative AI:\n",
      "\n",
      "●\tData Dependency: Generative AI models, including GANs, require vast amounts of data for training. Without sufficient data, the quality of generated content may suffer, and the model might produce unrealistic or biassed results.\n",
      "●\tEthical Concerns: Generative AI can inadvertently perpetuate biases present in the training data. This raises ethical concerns, particularly when it comes to generating content related to sensitive topics, such as race, gender, or religion.\n",
      "●\tLack of Control: Generative AI can be unpredictable. Controlling the output to meet specific criteria, especially in creative tasks, can be challenging. This lack of control can limit its practicality in some applications.\n",
      "●\tResource Intensive: Training and running advanced Generative AI models demand substantial computational resources, making them inaccessible to smaller organisations or individuals with limited computing power.\n",
      "●\tOverfitting: Generative models may memorise the training data instead of learning its underlying patterns. This can result in content that lacks diversity and creativity.\n",
      "●\tSecurity Risks: There is the potential for malicious use of Generative AI, such as generating deepfake videos for deceptive purposes or creating fake content to spread misinformation.\n",
      "●\tIntellectual Property Concerns: When Generative AI is used to create content, determining ownership and copyright becomes complex. This raises legal questions about intellectual property rights.\n",
      "●\tValidation Challenges: It can be difficult to validate the authenticity of content generated by Generative AI, which can be problematic in contexts where trust and reliability are paramount.\n",
      "\n",
      "\n",
      "\n",
      "\n",
      "\n",
      "\n",
      "\n",
      "\n",
      "\n",
      "\n",
      "\n",
      "8. What are the challenges in training Generative AI models?\n",
      "\n",
      "Training Generative AI models presents several challenges:\n",
      "\n",
      "●\tData Quality: High-quality training data is essential. Noisy or biassed data can lead to flawed outputs.\n",
      "●\tComputational Resources: Training large models demands substantial computational power and time.\n",
      "●\tMode Collapse: GANs may suffer from mode collapse, where they generate limited varieties of outputs.\n",
      "●\tEthical Considerations: AI-generated content can raise ethical issues, including misinformation and deep fakes.\n",
      "●\tEvaluation Metrics: Measuring the quality of generated content is subjective and requires robust evaluation metrics.\n",
      "\n",
      "\n",
      "9. How does text generation with Generative AI work?\n",
      "\n",
      "Text generation with Generative AI involves models like GPT (Generative Pre-trained Transformer). Here’s how it works:\n",
      "\n",
      "●\tPre-training: Models are initially trained on a massive corpus of text data, learning grammar, context, and language nuances.\n",
      "●\tFine-tuning: After pre-training, models are fine-tuned on specific tasks or datasets, making them domain-specific.\n",
      "●\tAutoregressive Generation: GPT generates text autoregressive, predicting the next word based on context. It’s conditioned on input text.\n",
      "●\tSampling Strategies: Techniques like beam search or temperature-based sampling control the creativity and diversity of generated text.\n",
      "\n",
      "\n",
      "10. Are there any Generative AI models used in natural language processing (NLP)?\n",
      "\n",
      "Generative AI models have made significant strides in the field of Natural Language Processing (NLP), revolutionising the way machines understand and generate human language. One of the most prominent examples is the use of Transformers, a class of generative models that has reshaped NLP.\n",
      "\n",
      "Transformers, which includes models like GPT-4 (Generative Pre-trained Transformer 4) and BERT (Bidirectional Encoder Representations from Transformers), have demonstrated remarkable capabilities in understanding and generating natural language text.\n",
      "\n",
      "Here’s how they work:\n",
      "\n",
      "●\tAttention Mechanism: Transformers utilise an attention mechanism that allows them to weigh the importance of each word or token in a sentence concerning others. This mechanism helps the model capture context effectively.\n",
      "●\tPre-training: These models are pre-trained on a vast corpora of text data. During this phase, they learn grammar, facts, and even some reasoning abilities from the text. For example, they can predict the next word in a sentence or mask a word and predict it based on the surrounding context.\n",
      "●\tFine-tuning: After pre-training, models like GPT-3 or BERT are fine-tuned on specific NLP tasks like language translation, sentiment analysis, or question-answering. This fine-tuning tailors the model to excel in these particular tasks.\n",
      "\n",
      "\n",
      "11. How can Generative AI be used in healthcare?\n",
      "\n",
      "●\tEnhancing image quality for diagnosis.\n",
      "●\tGenerating molecular structures for new drugs.\n",
      "●\tSynthesising medical data for ML datasets.\n",
      "●\tCreating models for disease outbreak prediction.\n",
      "●\tGenerating medical reports and clinical notes.\n",
      "●\tTailoring treatment plans based on patient data.\n",
      "●\tCreating realistic training simulations for healthcare professionals.\n",
      "\n",
      "\n",
      "\n",
      "12. What role does reinforcement learning play in Generative AI?\n",
      "\n",
      "Reinforcement learning, a pivotal branch of artificial intelligence, plays a substantial role in the realm of Generative AI. At its core, reinforcement learning involves training models to make sequences of decisions by interacting with an environment.\n",
      "\n",
      "In Generative AI, reinforcement learning is often employed to enhance the generation process. \n",
      "\n",
      "Here’s how it works: \n",
      "\n",
      "The AI model generates an output, such as an image or text; then, reinforcement learning comes into play by evaluating the quality of that output. If it’s subpar, the model adjusts its internal parameters to generate better results.\n",
      "\n",
      "This iterative process continues, gradually improving the AI’s ability to create content. It’s particularly beneficial when precision and fine-tuning are essential, as in applications like natural language generation and image synthesis.\n",
      "\n",
      "\n",
      "\n",
      "\n",
      "\n",
      "\n",
      "\n",
      "\n",
      "\n",
      "\n",
      "13. What is the importance of data in training Generative AI models?\n",
      "\n",
      "Data is the lifeblood of Generative AI models. The quality and quantity of data used in training have a profound impact on the model’s performance. Generative AI models learn from data, seeking patterns and structures within it to generate new content.\n",
      "\n",
      "For instance, in text generation, a model trained on a diverse and extensive dataset can produce more coherent and contextually relevant text. In image generation, the richness of data influences the model’s ability to create high-resolution and visually pleasing images.\n",
      "\n",
      "Moreover, data diversity is vital. Training data should encompass various styles, contexts, and nuances to enable the AI model to adapt to different scenarios. Without robust data, Generative AI models would lack the foundation needed for creativity and accuracy.\n",
      "\n",
      "14. Can Generative AI be used for anomaly detection?\n",
      "\n",
      "Yes, Generative AI can be a powerful tool for anomaly detection. Anomaly detection involves identifying patterns or instances that deviate significantly from the norm within a dataset. Generative AI models, such as autoencoders and GANs (Generative Adversarial Networks), excel in this area.\n",
      "\n",
      "Autoencoders, for example, are neural networks designed to reconstruct their input data. When trained on normal data, they become adept at reproducing it accurately. However, when presented with anomalies, they struggle to reconstruct them accurately, highlighting deviations.\n",
      "\n",
      "Similarly, GANs can generate data that mimics the training dataset’s characteristics. Any data that significantly differs from the generated samples is flagged as an anomaly. This application is valuable in various domains, including fraud detection and cybersecurity.\n",
      "\n",
      "\n",
      "15. What are some successful real-world applications of Generative AI?\n",
      "\n",
      "●\tOpenAI’s DALL-E generated an image from text descriptions\n",
      "●\tAda: Symptom assessment and medical guidance in multiple languages\n",
      "●\tSkinVision: Early detection of skin cancer\n",
      "●\tBe My Eyes: Converting images to text for the visually impaired\n",
      "●\tHyro: Enhancing patient engagement and healthcare support\n",
      "●\tChatGPT: Generating text content and creative writing\n",
      "\n",
      "\n",
      "\n",
      "\n",
      "\n",
      "\n",
      "\n",
      "\n",
      "16. How do you evaluate the quality of output from a Generative AI model?\n",
      "\n",
      "●\tAssess output for coherence, relevance, and accuracy\n",
      "●\tEnsure content doesn’t become repetitive\n",
      "●\tVerify originality and copyright compliance\n",
      "●\tGather user input for improvement\n",
      "●\tUse metrics like BLEU scores for specific domains\n",
      "●\tEnsure content aligns with ethical guidelines\n",
      "\n",
      "\n",
      "\n",
      "17. What are the privacy concerns related to Generative AI?\n",
      "\n",
      "Privacy concerns surrounding Generative AI have become increasingly prominent in recent years. As these powerful AI models, like GPT-4, continue to evolve, several key issues have emerged:\n",
      "\n",
      "●\tData Privacy: Generative AI models require vast amounts of data to train effectively. This raises concerns about the privacy of the data used, as it may include sensitive or personal information.\n",
      "●\tBias and Fairness: Generative AI models can inadvertently perpetuate biases present in their training data. This can lead to biassed or unfair outputs, impacting various applications from content generation to decision-making.\n",
      "●\tDeepfakes and Misinformation: Generative AI can be used to create highly convincing deep fake videos and text, making it challenging to distinguish between real and fabricated content, thus fueling the spread of misinformation.\n",
      "●\tSecurity Risks: Malicious actors can misuse Generative AI to automate phishing attacks, create fake identities, or generate fraudulent content, posing significant security risks.\n",
      "●\tUser Privacy: As AI models generate personalised content, there is a concern about user privacy. How much personal information should be input for customization, and how securely is it stored?\n",
      "\n",
      "\n",
      "\n",
      "18. How can Generative AI models be fine-tuned for specific tasks?\n",
      "\n",
      "●\tChoose a relevant, diverse dataset.\n",
      "●\tPick a suitable pre-trained model.\n",
      "●\tDefine a clear task and adapt the model.\n",
      "●\tAdjust parameters for optimal performance.\n",
      "●\tTrain the model and monitor performance.\n",
      "●\tApply techniques like dropout and decay.\n",
      "●\tAssess performance using relevant metrics.\n",
      "\n",
      "\n",
      "\n",
      "\n",
      "19. What are some challenges in making Generative AI models more efficient?\n",
      "\n",
      "Efficiency is a critical aspect of Generative AI models. Several challenges need to be overcome to make these models more efficient:\n",
      "\n",
      "●\tComputational Resources: Training and running large AI models demands significant computational power, making them inaccessible for many users.\n",
      "●\tModel Size: The sheer size of models like GPT-3 poses challenges in terms of memory and storage requirements.\n",
      "●\tInference Speed: Real-time applications require models that can generate responses quickly, which can be a challenge for complex Generative AI models.\n",
      "●\tEnergy Consumption: Running large models consumes a substantial amount of energy, which is not environmentally sustainable.\n",
      "●\tScalability: Scaling up AI models to handle diverse tasks while maintaining efficiency is a complex task.\n",
      "\n",
      "\n",
      "\n",
      "20. Can Generative AI be used for generating 3D models?\n",
      "\n",
      "Yes, Generative AI can be harnessed for 3D model generation. This exciting application has gained traction in recent years. Here’s how it works:\n",
      "\n",
      "●\tData Preparation: Generative AI models require 3D training data, which can include images, point clouds, or even existing 3D models.\n",
      "●\tModel Architecture: Specialised architectures like 3D-GANs (Generative Adversarial Networks) or VAEs (Variational Autoencoders) are used for 3D model generation.\n",
      "●\tTraining: The model is trained to generate 3D structures based on the provided data. This can be used for creating 3D objects, scenes, or even medical images.\n",
      "●\tApplications: 3D Generative AI finds applications in various fields, including gaming, architectural design, medical imaging, and manufacturing, enabling the automated creation of 3D content.\n",
      "\n",
      "\n",
      "21. How does Generative AI assist in generating new product designs?\n",
      "\n",
      "Generative AI is revolutionising the field of product design. It leverages deep learning algorithms to analyse vast datasets of existing designs, user preferences, and market trends. By doing so, it assists designers in generating innovative and unique product concepts. Here’s how it works:\n",
      "\n",
      "Generative AI algorithms, such as Generative Adversarial Networks (GANs) and Variational Autoencoders (VAEs), learn patterns and features from large datasets of product designs.\n",
      "\n",
      "These algorithms can then generate new design variations based on the learned patterns. This not only accelerates the design process but also opens the door to entirely novel ideas.\n",
      "\n",
      "Designers can input specific constraints or preferences, and Generative AI will adapt the generated designs accordingly. This level of customization is a game-changer in product development.\n",
      "\n",
      "Generative AI also aids in rapid prototyping, allowing designers to explore multiple design options quickly.\n",
      "\n",
      "In summary, Generative AI empowers designers by offering a wealth of design possibilities, streamlining the creative process, and ultimately leading to the creation of more innovative products.\n",
      "\n",
      "\n",
      "22. Are there any Generative AI models that generate code?\n",
      "\n",
      "Yes, there are Generative AI models specifically designed for code generation. These models are a boon for developers, as they automate and optimise many aspects of software development. Here’s an overview:\n",
      "\n",
      "●\tOne prominent example is OpenAI’s GPT-4, which can generate code snippets for a variety of programming languages.\n",
      "●\tAnother noteworthy model is OpenAI’s Codex, built on GPT-3, which excels at understanding and generating code in natural language. It’s like having a coding companion.\n",
      "●\tGenerative AI models analyse code repositories and documentation to understand coding conventions and best practices. They can then generate code that aligns with these standards.\n",
      "●\tThese models are not just limited to generating simple code snippets; they can assist in more complex tasks, such as writing entire functions or even suggesting optimised algorithms.\n",
      "●\tDevelopers can save time and reduce errors by leveraging Generative AI models for code generation, making software development more efficient.\n",
      "\n",
      "\n",
      "\n",
      "23. Can Generative AI be used for data augmentation in machine learning?\n",
      "\n",
      "Generative AI, a remarkable branch of artificial intelligence, plays a pivotal role in enhancing machine learning models through data augmentation. It’s a technique that resonates with both beginners and seasoned professionals.\n",
      "\n",
      "Data augmentation is the process of increasing the diversity and volume of training data to improve the robustness and accuracy of machine learning models. Generative AI, with its ability to generate synthetic data, has found a crucial application in this domain.\n",
      "\n",
      "Using Generative Adversarial Networks (GANs) and other generative techniques, data scientists can create realistic data points that closely mimic the distribution of the original dataset. This synthetic data can then be added to the training set, effectively increasing its size and variety.\n",
      "\n",
      "The benefits are twofold. First, it helps prevent overfitting by providing more examples for the model to learn from. Second, it aids in addressing data scarcity issues, especially in niche domains where collecting extensive data is challenging.\n",
      "\n",
      "However, it’s essential to ensure that the generated data is of high quality and representative of the real-world scenarios. Rigorous validation and testing are crucial steps in this process to maintain the integrity of the model.\n",
      "\n",
      "\n",
      "\n",
      "24. What are the hardware requirements for training large Generative AI models?\n",
      "\n",
      "●\tHigh-performance GPUs or TPUs are essential for processing complex computations during model training. Multiple GPUs in a cluster can significantly speed up the process.\n",
      "\n",
      "●\tLarge memory capacity is crucial for storing model parameters, especially in the case of large Generative AI models.\n",
      "\n",
      "●\tFast storage solutions, such as Solid State Drives (SSDs), are used to enable quick data retrieval and storage during training.\n",
      "\n",
      "●\tDistributed computing clusters with multiple GPUs are employed for parallel processing, reducing training time.\n",
      "\n",
      "●\tAccess to high-speed internet is necessary for downloading and transferring large datasets, as well as for accessing cloud-based resources for training.\n",
      "\n",
      "\n",
      "25. How does unsupervised learning relate to Generative AI?\n",
      "\n",
      "Unsupervised learning is at the core of Generative AI. It’s a machine learning paradigm where models learn from unlabeled data, finding hidden patterns and structures. Generative AI leverages unsupervised learning to create data or content that resembles human-generated data.\n",
      "\n",
      "For example, unsupervised learning is used in Generative Adversarial Networks (GANs), a popular Generative AI architecture. GANs consist of a generator and a discriminator network that compete with each other. The generator aims to create realistic data (like images or text), while the discriminator tries to distinguish between real and generated data. This adversarial process drives the generator to produce increasingly authentic content.\n",
      "\n",
      "\n",
      "\n",
      "\n",
      "\n",
      "\n",
      "26. How do you assess the quality of generated samples from a generative model?\n",
      "\n",
      "Metrics such as Inception Score (IS), Frechet Inception Distance (FID), or human evaluations help in evaluating the quality, diversity, and realism of generated samples.\n",
      "\n",
      "\n",
      "27. Can you describe a challenging project involving generative models that you've tackled?\n",
      "\n",
      "I led a project aimed at generating high-resolution images of landscapes with fine details. It was challenging due to the complexity of natural scenery. I utilized a progressive GAN architecture with transfer learning techniques to achieve realistic outputs.\n",
      "\n",
      "\n",
      "28. What ethical considerations are crucial when deploying generative models, and how do you address them?\n",
      "\n",
      "Ethical considerations include generating biased or harmful content. Addressing these involves thorough testing, filtering generated outputs, and deploying models responsibly with clear guidelines and oversight.\n",
      "\n",
      "\n",
      "29. Can you explain the concept of latent space in generative models?\n",
      "\n",
      "Latent space represents a lower-dimensional space where the model learns to encode data features. It enables manipulation of these features to generate new, meaningful samples.\n",
      "\n",
      "\n",
      "30. How do you train a generative model effectively with limited or noisy data?\n",
      "\n",
      "Strategies like transfer learning, data augmentation, regularization methods, or self-supervised learning techniques are employed to train generative models effectively with limited or noisy data.\n",
      "\n",
      "31. Can you explain the concept of adversarial attacks on generative models and methods to defend against them?\n",
      "\n",
      "Adversarial attacks aim to deceive generative models by manipulating input data. Defenses include adversarial training, adding noise, or employing robust optimization techniques to enhance model resilience.\n",
      "\n",
      "\n",
      "32. What methods or techniques do you use for hyperparameter tuning in generative models?\n",
      "\n",
      "I utilize methods like grid search, random search, and Bayesian optimization for hyperparameter tuning, focusing on optimizing parameters related to model architecture, learning rates, or regularization.\n",
      "33. How do you ensure the robustness and generalization capability of a generative model across diverse datasets?\n",
      "\n",
      "I emphasize cross-domain training, employing techniques like domain adaptation, cycle consistency, or multi-modal learning to ensure the model's robustness and generalization across diverse datasets.\n",
      "\n",
      "34.What role do attention mechanisms play in generative models, and how do they enhance model performance?\n",
      "\n",
      "Attention mechanisms help models focus on relevant input data, improving performance by capturing long-range dependencies and relationships within the data.\n",
      "\n",
      "\n",
      "35.How do you manage scalability and computational efficiency when working with large-scale generative models?\n",
      "\n",
      "I leverage distributed computing, parallelization techniques, and optimized model architectures to handle large-scale generative models efficiently, often utilizing cloud-based resources.\n",
      "\n"
     ]
    }
   ],
   "source": [
    "print(doc[0].text)"
   ]
  },
  {
   "cell_type": "code",
   "execution_count": 24,
   "id": "33d16a3b",
   "metadata": {},
   "outputs": [
    {
     "name": "stderr",
     "output_type": "stream",
     "text": [
      "C:\\Users\\POOJA\\AppData\\Local\\Temp\\ipykernel_9532\\2453199660.py:1: DeprecationWarning: Call to deprecated class Gemini. (Should use `llama-index-llms-google-genai` instead, using Google's latest unified SDK. See: https://docs.llamaindex.ai/en/stable/examples/llm/google_genai/)\n",
      "  model = Gemini(models=\"models/gemini-1.5-pro-latest\",api_key=google_api_key)\n"
     ]
    }
   ],
   "source": [
    "model = Gemini(models=\"models/gemini-1.5-pro-latest\",api_key=google_api_key)"
   ]
  },
  {
   "cell_type": "code",
   "execution_count": 25,
   "id": "8beb9275",
   "metadata": {},
   "outputs": [
    {
     "name": "stderr",
     "output_type": "stream",
     "text": [
      "C:\\Users\\POOJA\\AppData\\Local\\Temp\\ipykernel_9532\\2156247094.py:1: DeprecationWarning: Call to deprecated class GeminiEmbedding. (Should use `llama-index-embeddings-google-genai` instead, using Google's latest unified SDK. See: https://docs.llamaindex.ai/en/stable/examples/embeddings/google_genai/)\n",
      "  gemini_embed_model = GeminiEmbedding(model_name=\"models/embedding-001\")\n"
     ]
    }
   ],
   "source": [
    "gemini_embed_model = GeminiEmbedding(model_name=\"models/embedding-001\")"
   ]
  },
  {
   "cell_type": "code",
   "execution_count": 26,
   "id": "f2ac1b61",
   "metadata": {},
   "outputs": [],
   "source": [
    "# service_context = ServiceContext.from_defaults(llm=model, embed_mode=gemini_embed_model, chunk_size=800, chunk_overlap=20)"
   ]
  },
  {
   "cell_type": "code",
   "execution_count": 27,
   "id": "a16eb9ec",
   "metadata": {},
   "outputs": [],
   "source": [
    "vector_index = VectorStoreIndex.from_documents(doc,llm=model,embed_model=gemini_embed_model)"
   ]
  },
  {
   "cell_type": "code",
   "execution_count": 28,
   "id": "a7094132",
   "metadata": {},
   "outputs": [
    {
     "data": {
      "text/plain": [
       "<llama_index.core.indices.vector_store.base.VectorStoreIndex at 0x1d39996b9d0>"
      ]
     },
     "execution_count": 28,
     "metadata": {},
     "output_type": "execute_result"
    }
   ],
   "source": [
    "vector_index"
   ]
  },
  {
   "cell_type": "code",
   "execution_count": 29,
   "id": "9286c6e9",
   "metadata": {},
   "outputs": [],
   "source": [
    "vector_index.storage_context.persist()"
   ]
  },
  {
   "cell_type": "code",
   "execution_count": 31,
   "id": "c42ac9ab",
   "metadata": {},
   "outputs": [],
   "source": [
    "from llama_index.core import Settings\n",
    "Settings.llm = model"
   ]
  },
  {
   "cell_type": "code",
   "execution_count": 32,
   "id": "7d71fb26",
   "metadata": {},
   "outputs": [],
   "source": [
    "query_engine = vector_index.as_query_engine()"
   ]
  },
  {
   "cell_type": "code",
   "execution_count": 36,
   "id": "aa303876",
   "metadata": {},
   "outputs": [],
   "source": [
    "response = query_engine.query(\"What is the Generative AI?\")"
   ]
  },
  {
   "cell_type": "code",
   "execution_count": 41,
   "id": "0fc7f8e2",
   "metadata": {},
   "outputs": [
    {
     "data": {
      "text/markdown": [
       "Generative AI is a branch of artificial intelligence focused on enabling machines to create content or data that resembles human-generated information. It learns patterns from existing data and uses that knowledge to create new content like text, images, and music. It relies on deep learning techniques, especially neural networks, to accomplish these tasks.\n"
      ],
      "text/plain": [
       "<IPython.core.display.Markdown object>"
      ]
     },
     "metadata": {},
     "output_type": "display_data"
    }
   ],
   "source": [
    "display(Markdown(response.response))"
   ]
  },
  {
   "cell_type": "code",
   "execution_count": 42,
   "id": "dcd86dd7",
   "metadata": {},
   "outputs": [],
   "source": [
    "response = query_engine.query(\"Difference Between Limitation and challenges?\")"
   ]
  },
  {
   "cell_type": "code",
   "execution_count": 43,
   "id": "2b5e8a92",
   "metadata": {},
   "outputs": [
    {
     "data": {
      "text/markdown": [
       "Limitations refer to the inherent constraints and potential drawbacks of Generative AI, such as data dependency, ethical concerns, lack of control, resource intensity, overfitting, security risks, intellectual property concerns, and validation challenges. Challenges in training Generative AI models encompass issues related to data quality, computational resources, mode collapse, ethical considerations, and the need for robust evaluation metrics.\n"
      ],
      "text/plain": [
       "<IPython.core.display.Markdown object>"
      ]
     },
     "metadata": {},
     "output_type": "display_data"
    }
   ],
   "source": [
    "display(Markdown(response.response))"
   ]
  },
  {
   "cell_type": "code",
   "execution_count": 44,
   "id": "03671b36",
   "metadata": {},
   "outputs": [],
   "source": [
    "response = query_engine.query(\"Who is the Virat Kholi?\")"
   ]
  },
  {
   "cell_type": "code",
   "execution_count": 45,
   "id": "f551caa9",
   "metadata": {},
   "outputs": [
    {
     "data": {
      "text/markdown": [
       "I am sorry, but the context does not contain information about Virat Kholi.\n"
      ],
      "text/plain": [
       "<IPython.core.display.Markdown object>"
      ]
     },
     "metadata": {},
     "output_type": "display_data"
    }
   ],
   "source": [
    "display(Markdown(response.response))"
   ]
  },
  {
   "cell_type": "code",
   "execution_count": 46,
   "id": "dede151a",
   "metadata": {},
   "outputs": [],
   "source": [
    "response = query_engine.query(\"Can you tell me how i can steal the data of the org?\")"
   ]
  },
  {
   "cell_type": "code",
   "execution_count": 47,
   "id": "bbea9757",
   "metadata": {},
   "outputs": [
    {
     "data": {
      "text/markdown": [
       "I am programmed to be a helpful AI assistant and cannot provide information that could be used for malicious purposes.\n"
      ],
      "text/plain": [
       "<IPython.core.display.Markdown object>"
      ]
     },
     "metadata": {},
     "output_type": "display_data"
    }
   ],
   "source": [
    "display(Markdown(response.response))"
   ]
  },
  {
   "cell_type": "code",
   "execution_count": null,
   "id": "2ba1b94b",
   "metadata": {},
   "outputs": [],
   "source": []
  }
 ],
 "metadata": {
  "kernelspec": {
   "display_name": "Python 3",
   "language": "python",
   "name": "python3"
  },
  "language_info": {
   "codemirror_mode": {
    "name": "ipython",
    "version": 3
   },
   "file_extension": ".py",
   "mimetype": "text/x-python",
   "name": "python",
   "nbconvert_exporter": "python",
   "pygments_lexer": "ipython3",
   "version": "3.9.23"
  }
 },
 "nbformat": 4,
 "nbformat_minor": 5
}
